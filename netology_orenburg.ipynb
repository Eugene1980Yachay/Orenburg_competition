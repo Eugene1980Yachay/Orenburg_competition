{
 "cells": [
  {
   "cell_type": "code",
   "execution_count": 1,
   "id": "9a4993c7",
   "metadata": {},
   "outputs": [],
   "source": [
    "import pandas as pd\n",
    "from sklearn.preprocessing import LabelEncoder\n",
    "from sklearn.model_selection import train_test_split\n",
    "\n",
    "from sklearn.ensemble import RandomForestClassifier\n",
    "from sklearn.metrics import precision_score, recall_score\n",
    "from sklearn.cluster import KMeans\n",
    "from datetime import datetime\n",
    "\n",
    "import numpy as np"
   ]
  },
  {
   "cell_type": "code",
   "execution_count": 2,
   "id": "752d645f",
   "metadata": {},
   "outputs": [],
   "source": [
    "pd.set_option('display.max_columns', None)"
   ]
  },
  {
   "cell_type": "code",
   "execution_count": 3,
   "id": "5a7c0fe1",
   "metadata": {},
   "outputs": [],
   "source": [
    "df = pd.read_csv('train_dataset_train.csv')\n"
   ]
  },
  {
   "cell_type": "markdown",
   "id": "81499aa5",
   "metadata": {},
   "source": [
    "Выделяем  категориальные признаки"
   ]
  },
  {
   "cell_type": "code",
   "execution_count": 4,
   "id": "e3b8f4be",
   "metadata": {},
   "outputs": [
    {
     "data": {
      "text/plain": [
       "array([dtype('O'), dtype('O'), dtype('O'), dtype('O'), dtype('O'),\n",
       "       dtype('O'), dtype('O'), dtype('O'), dtype('O'), dtype('O')],\n",
       "      dtype=object)"
      ]
     },
     "execution_count": 4,
     "metadata": {},
     "output_type": "execute_result"
    }
   ],
   "source": [
    "df.dtypes[df.dtypes == \"object\"].values"
   ]
  },
  {
   "cell_type": "code",
   "execution_count": 5,
   "id": "c397dacd",
   "metadata": {},
   "outputs": [],
   "source": [
    "mass_object = df.dtypes[df.dtypes == \"object\"].index.values"
   ]
  },
  {
   "cell_type": "code",
   "execution_count": 6,
   "id": "4a0dec14",
   "metadata": {},
   "outputs": [
    {
     "data": {
      "text/plain": [
       "array(['month_id', 'carts_created_at', 'promo', 'communication_type',\n",
       "       'ABC', 'city', 'country', 'os', 'browser', 'platform'],\n",
       "      dtype=object)"
      ]
     },
     "execution_count": 6,
     "metadata": {},
     "output_type": "execute_result"
    }
   ],
   "source": [
    "mass_object "
   ]
  },
  {
   "cell_type": "markdown",
   "id": "c06174b3",
   "metadata": {},
   "source": [
    "Кодируем признаки средними значениями"
   ]
  },
  {
   "cell_type": "code",
   "execution_count": 7,
   "id": "a2313f72",
   "metadata": {},
   "outputs": [],
   "source": [
    "#https://dyakonov.org/2016/08/03/python-%D0%BA%D0%B0%D1%82%D0%B5%D0%B3%D0%BE%D1%80%D0%B8%D0%B0%D0%BB%D1%8C%D0%BD%D1%8B%D0%B5-%D0%BF%D1%80%D0%B8%D0%B7%D0%BD%D0%B0%D0%BA%D0%B8/\n",
    "\n",
    "def feature_mean(data,cat_feature,real_feature):\n",
    "    return (data[cat_feature].map(data.groupby(cat_feature)[real_feature].mean()))\n"
   ]
  },
  {
   "cell_type": "code",
   "execution_count": 8,
   "id": "bf84bf1b",
   "metadata": {},
   "outputs": [],
   "source": [
    "df['browser_price'] = feature_mean(df,'browser','price')\n",
    "\n",
    "\n",
    "df['os_price'] = feature_mean(df,'os','price')\n",
    "df['os_student'] = feature_mean(df,'os','student_id')"
   ]
  },
  {
   "cell_type": "code",
   "execution_count": 9,
   "id": "309a5fb0",
   "metadata": {},
   "outputs": [
    {
     "data": {
      "text/plain": [
       "(200000,)"
      ]
     },
     "execution_count": 9,
     "metadata": {},
     "output_type": "execute_result"
    }
   ],
   "source": [
    "df['browser_price'].shape"
   ]
  },
  {
   "cell_type": "code",
   "execution_count": 10,
   "id": "e765d16a",
   "metadata": {},
   "outputs": [
    {
     "data": {
      "text/plain": [
       "122626"
      ]
     },
     "execution_count": 10,
     "metadata": {},
     "output_type": "execute_result"
    }
   ],
   "source": [
    "df['browser_price'].isna().sum()"
   ]
  },
  {
   "cell_type": "code",
   "execution_count": 11,
   "id": "2d3ad803",
   "metadata": {},
   "outputs": [],
   "source": [
    "df['city_price'] = feature_mean(df,'city','price')\n",
    "\n",
    "\n",
    "\n",
    "df['city_student'] = feature_mean(df,'city','student_id')\n",
    "\n",
    "df['browser_student'] = feature_mean(df,'browser','student_id')\n",
    "\n",
    "df['student_price'] = feature_mean(df,'student_id','price')"
   ]
  },
  {
   "cell_type": "markdown",
   "id": "1177c1a2",
   "metadata": {},
   "source": []
  },
  {
   "cell_type": "code",
   "execution_count": 12,
   "id": "c214f52d",
   "metadata": {},
   "outputs": [],
   "source": [
    "df['ABC_price'] = feature_mean(df,'ABC','price')\n",
    "\n",
    "df['ABC_student'] = feature_mean(df,'ABC','student_id')"
   ]
  },
  {
   "cell_type": "code",
   "execution_count": null,
   "id": "a80b4366",
   "metadata": {},
   "outputs": [],
   "source": []
  },
  {
   "cell_type": "code",
   "execution_count": 13,
   "id": "099130a0",
   "metadata": {},
   "outputs": [],
   "source": [
    "df['os_student'] = feature_mean(df,'os','student_id')\n",
    "\n",
    "\n",
    "df['os_price'] = feature_mean(df,'os','price')\n",
    "\n"
   ]
  },
  {
   "cell_type": "code",
   "execution_count": 14,
   "id": "d7f6eac4",
   "metadata": {},
   "outputs": [],
   "source": [
    "df['gender_price'] = feature_mean(df,'gender','price')\n",
    "df['gender_student'] = feature_mean(df,'gender','student_id')"
   ]
  },
  {
   "cell_type": "markdown",
   "id": "7deb5c2e",
   "metadata": {},
   "source": [
    "Кодируем признак ABC"
   ]
  },
  {
   "cell_type": "code",
   "execution_count": 15,
   "id": "800a5713",
   "metadata": {},
   "outputs": [
    {
     "data": {
      "text/plain": [
       "array([3, 0, 1, 2])"
      ]
     },
     "execution_count": 15,
     "metadata": {},
     "output_type": "execute_result"
    }
   ],
   "source": [
    "from sklearn.preprocessing import LabelEncoder\n",
    "\n",
    "le = LabelEncoder()\n",
    "df[\"ABC\"] = le.fit_transform(df[\"ABC\"])\n",
    "df[\"ABC\"].unique()"
   ]
  },
  {
   "cell_type": "markdown",
   "id": "88cd8832",
   "metadata": {},
   "source": [
    "Новая переменная - процент пропущенных звонков"
   ]
  },
  {
   "cell_type": "code",
   "execution_count": 16,
   "id": "970ee0f3",
   "metadata": {},
   "outputs": [],
   "source": [
    "df['missed_percent'] = df['m_missed_calls']/df['m_total_calls']\n",
    "\n",
    "df['missed_percent'] =  df['missed_percent'].fillna(-1)"
   ]
  },
  {
   "cell_type": "markdown",
   "id": "bcf40b68",
   "metadata": {},
   "source": [
    "Кодируем признак участия в промо-акциях"
   ]
  },
  {
   "cell_type": "code",
   "execution_count": 17,
   "id": "5b27c8fe",
   "metadata": {},
   "outputs": [],
   "source": [
    "df['promo'] = df['promo'].map({'+': 1, '-': 0})"
   ]
  },
  {
   "cell_type": "code",
   "execution_count": 18,
   "id": "5c3a8514",
   "metadata": {},
   "outputs": [
    {
     "data": {
      "text/html": [
       "<div>\n",
       "<style scoped>\n",
       "    .dataframe tbody tr th:only-of-type {\n",
       "        vertical-align: middle;\n",
       "    }\n",
       "\n",
       "    .dataframe tbody tr th {\n",
       "        vertical-align: top;\n",
       "    }\n",
       "\n",
       "    .dataframe thead th {\n",
       "        text-align: right;\n",
       "    }\n",
       "</style>\n",
       "<table border=\"1\" class=\"dataframe\">\n",
       "  <thead>\n",
       "    <tr style=\"text-align: right;\">\n",
       "      <th></th>\n",
       "      <th>month_id</th>\n",
       "      <th>carts_created_at</th>\n",
       "    </tr>\n",
       "  </thead>\n",
       "  <tbody>\n",
       "    <tr>\n",
       "      <th>0</th>\n",
       "      <td>9/30/2020</td>\n",
       "      <td>8/26/2020</td>\n",
       "    </tr>\n",
       "    <tr>\n",
       "      <th>1</th>\n",
       "      <td>6/30/2021</td>\n",
       "      <td>8/5/2020</td>\n",
       "    </tr>\n",
       "    <tr>\n",
       "      <th>2</th>\n",
       "      <td>2/28/2021</td>\n",
       "      <td>6/20/2020</td>\n",
       "    </tr>\n",
       "    <tr>\n",
       "      <th>3</th>\n",
       "      <td>11/30/2021</td>\n",
       "      <td>4/14/2021</td>\n",
       "    </tr>\n",
       "    <tr>\n",
       "      <th>4</th>\n",
       "      <td>10/31/2020</td>\n",
       "      <td>7/19/2020</td>\n",
       "    </tr>\n",
       "    <tr>\n",
       "      <th>...</th>\n",
       "      <td>...</td>\n",
       "      <td>...</td>\n",
       "    </tr>\n",
       "    <tr>\n",
       "      <th>199995</th>\n",
       "      <td>11/30/2021</td>\n",
       "      <td>10/16/2020</td>\n",
       "    </tr>\n",
       "    <tr>\n",
       "      <th>199996</th>\n",
       "      <td>9/30/2021</td>\n",
       "      <td>1/2/2021</td>\n",
       "    </tr>\n",
       "    <tr>\n",
       "      <th>199997</th>\n",
       "      <td>3/31/2021</td>\n",
       "      <td>6/29/2020</td>\n",
       "    </tr>\n",
       "    <tr>\n",
       "      <th>199998</th>\n",
       "      <td>6/30/2021</td>\n",
       "      <td>12/7/2020</td>\n",
       "    </tr>\n",
       "    <tr>\n",
       "      <th>199999</th>\n",
       "      <td>10/31/2021</td>\n",
       "      <td>2/24/2021</td>\n",
       "    </tr>\n",
       "  </tbody>\n",
       "</table>\n",
       "<p>200000 rows × 2 columns</p>\n",
       "</div>"
      ],
      "text/plain": [
       "          month_id carts_created_at\n",
       "0        9/30/2020        8/26/2020\n",
       "1        6/30/2021         8/5/2020\n",
       "2        2/28/2021        6/20/2020\n",
       "3       11/30/2021        4/14/2021\n",
       "4       10/31/2020        7/19/2020\n",
       "...            ...              ...\n",
       "199995  11/30/2021       10/16/2020\n",
       "199996   9/30/2021         1/2/2021\n",
       "199997   3/31/2021        6/29/2020\n",
       "199998   6/30/2021        12/7/2020\n",
       "199999  10/31/2021        2/24/2021\n",
       "\n",
       "[200000 rows x 2 columns]"
      ]
     },
     "execution_count": 18,
     "metadata": {},
     "output_type": "execute_result"
    }
   ],
   "source": [
    "df[['month_id','carts_created_at']]"
   ]
  },
  {
   "cell_type": "markdown",
   "id": "902975ea",
   "metadata": {},
   "source": [
    "Выделяем месяц из даты, формируем переменные - комбинации"
   ]
  },
  {
   "cell_type": "code",
   "execution_count": 20,
   "id": "246415e3",
   "metadata": {},
   "outputs": [],
   "source": [
    "def get_month(date):\n",
    "    return date.split('/')[0]\n",
    "    \n",
    "df['month_id_m'] =df['month_id'].apply(get_month)\n",
    "\n",
    "df['carts_created_m'] =df['carts_created_at'].apply(get_month)\n",
    "\n",
    "df['feedback_avg_d135'] =  df['feedback_avg_d3'] + df['feedback_avg_d1'] + df['feedback_avg_d5']\n",
    "df['webinar_lessons'] = df['webinars'] + df['lessons']"
   ]
  },
  {
   "cell_type": "markdown",
   "id": "45acaf5b",
   "metadata": {},
   "source": [
    "Кластеризация признаков обучение модели, проверка"
   ]
  },
  {
   "cell_type": "code",
   "execution_count": 21,
   "id": "5dc14d1d",
   "metadata": {},
   "outputs": [
    {
     "name": "stdout",
     "output_type": "stream",
     "text": [
      "0:24:43.065108\n"
     ]
    },
    {
     "data": {
      "text/plain": [
       "1.0"
      ]
     },
     "execution_count": 21,
     "metadata": {},
     "output_type": "execute_result"
    }
   ],
   "source": [
    "kmeans = KMeans(n_clusters=6)\n",
    "X_cluster = df.loc[:, ['id',\n",
    "                       \"student_id\", \n",
    "                       'price',\n",
    "                        'student_price',\n",
    "                       'carts_created_m',\n",
    "                       \n",
    "                       'age_indicator',\n",
    "                                             \n",
    "                       'p_missed_calls',\n",
    "                       'program_id', \n",
    "                       \n",
    "                       'month_id_m',  \n",
    "        \n",
    "                       'p_total_calls', \n",
    "                       'p_was_conversations', \n",
    "                       'p_total_duration',\n",
    "                       'support_feedback_avg',\n",
    "                       \n",
    "                       'feedback_avg_d1', \n",
    "        \n",
    "                        'feedback_avg_d3', \n",
    "                        'feedback_avg_d5', \n",
    "                       \n",
    "                       'webinar_lessons',\n",
    "                       'feedback_avg_d135'\n",
    "                       \n",
    "                         \n",
    "                                            \n",
    "                      ]].fillna(-1)\n",
    "\n",
    "X_cluster[\"Cluster\"] = kmeans.fit_predict(X_cluster )\n",
    "# X_klaster[\"Cluster\"] = X_klaster [\"Cluster\"].astype(\"category\")\n",
    "df['cluster'] = X_cluster [\"Cluster\"].astype(\"int\")\n",
    "\n",
    "\n",
    "#время\n",
    "start_time = datetime.now()\n",
    "\n",
    "X = df[[\n",
    "         'ABC', \n",
    "        'cluster',\n",
    "        'id', 'age_indicator', 'student_id', \n",
    "        'program_id',\n",
    "         'spent_time_total', 'spent_time_to_complete_hw',\n",
    "        \n",
    "        'completed_hw', 'failed_hw', 'reworked_hw', 'interacted_hw',\n",
    "        'avg_hw_mark', 'test_with_good_mark', 'test_with_great_mark',\n",
    "        \n",
    "        'webinars', 'lessons',\n",
    "        \n",
    "        'hw_leader', 'avg_quiz_result',\n",
    "    \n",
    "        'activity', \n",
    "     \n",
    "        'bought_d1',\n",
    "         'bought_d2', \n",
    "        'bought_d3',         \n",
    "         'bought_d4',    \n",
    "        'bought_d5', \n",
    "       \n",
    "        'bought_avg_duration',\n",
    "    \n",
    "        'payment_type', \n",
    "       'promo', 'price',\n",
    "        \n",
    "       'gender', 'speed_recall',  \n",
    "       'm_avg_talk_duration', 'm_avg_duration', 'm_missed_calls',\n",
    "        \n",
    "       'm_total_calls', \n",
    "       'p_avg_duration', 'p_missed_calls',\n",
    "        \n",
    "       'p_total_calls', 'p_was_conversations', 'p_total_duration',\n",
    "       'support_feedback_avg', \n",
    "       'feedback_avg_d1', \n",
    "        'feedback_avg_d3', \n",
    "       'feedback_avg_d5',         \n",
    "       'browser_price', 'student_price',       \n",
    "       'city_price', 'ABC_price', \n",
    "       'missed_percent',\n",
    "       'os_student','os_price',\n",
    "      'city_student', 'browser_student','ABC_student',    \n",
    "      'gender_price', 'gender_student',\n",
    "       'month_id_m',  'carts_created_m'\n",
    "    \n",
    "\n",
    "       ]].fillna(-1)\n",
    "\n",
    "y_ravel =  df[\"target\"].ravel()\n",
    "y = np.array(y_ravel).astype(int)\n",
    "\n",
    "    \n",
    "X_train, X_test, y_train, y_test = train_test_split(X, y, train_size=0.99999,random_state=42)\n",
    "\n",
    "from sklearn.ensemble import RandomForestClassifier\n",
    "\n",
    "\n",
    "rfc = RandomForestClassifier(bootstrap = False,\n",
    "                             criterion ='entropy', max_features = 28, \n",
    "                             n_estimators = 675,\n",
    "                             random_state=17,n_jobs = -1,\n",
    "                             warm_start = True)\n",
    "\n",
    "rfc.fit(X_train, y_train)\n",
    "y_pred_rfc= rfc.predict(X_test)\n",
    "\n",
    "# время\n",
    "print(datetime.now() - start_time)\n",
    "\n",
    "precision_score(y_test, y_pred_rfc,  average='macro') * 0.8 + recall_score(y_test, y_pred_rfc, average='macro') * 0.2\n"
   ]
  },
  {
   "cell_type": "markdown",
   "id": "a2e8b55e",
   "metadata": {},
   "source": [
    "Вычисление важности признаков"
   ]
  },
  {
   "cell_type": "code",
   "execution_count": 22,
   "id": "4823da55",
   "metadata": {},
   "outputs": [
    {
     "name": "stdout",
     "output_type": "stream",
     "text": [
      "Wall time: 12.2 s\n"
     ]
    },
    {
     "data": {
      "image/png": "[encoded data removed]",
      "text/plain": [
       "<Figure size 432x288 with 1 Axes>"
      ]
     },
     "metadata": {},
     "output_type": "display_data"
    }
   ],
   "source": [
    "%%time\n",
    "import numpy as np\n",
    "import matplotlib.pyplot as plt\n",
    "\n",
    "feature_names = X.columns\n",
    "importances = rfc.feature_importances_\n",
    "std = np.std([tree.feature_importances_ for tree in rfc.estimators_], axis=0)\n",
    "\n",
    "forest_importances = pd.Series(importances, index=feature_names)\n",
    "\n",
    "fig, ax = plt.subplots()\n",
    "fig.patch.set_facecolor('lightgreen')\n",
    "forest_importances.plot.bar(yerr=std, ax=ax)\n",
    "\n",
    "ax.set_title(\"Feature importances using MDI\")\n",
    "ax.set_ylabel(\"Mean decrease in impurity\")\n",
    "fig.tight_layout()"
   ]
  },
  {
   "cell_type": "code",
   "execution_count": 23,
   "id": "acf08ac9",
   "metadata": {},
   "outputs": [
    {
     "data": {
      "text/plain": [
       "student_id              0.101491\n",
       "student_price           0.080002\n",
       "price                   0.073667\n",
       "carts_created_m         0.073294\n",
       "id                      0.072743\n",
       "program_id              0.072531\n",
       "age_indicator           0.062132\n",
       "month_id_m              0.058938\n",
       "feedback_avg_d3         0.027528\n",
       "feedback_avg_d1         0.022137\n",
       "feedback_avg_d5         0.019277\n",
       "m_avg_talk_duration     0.016126\n",
       "support_feedback_avg    0.015786\n",
       "browser_student         0.015564\n",
       "m_avg_duration          0.015548\n",
       "browser_price           0.015441\n",
       "spent_time_total        0.012353\n",
       "m_total_calls           0.011944\n",
       "gender                  0.011222\n",
       "os_student              0.011120\n",
       "activity                0.010828\n",
       "promo                   0.010647\n",
       "lessons                 0.010286\n",
       "gender_price            0.010188\n",
       "gender_student          0.010187\n",
       "bought_avg_duration     0.010129\n",
       "cluster                 0.009964\n",
       "ABC_student             0.009725\n",
       "os_price                0.009651\n",
       "ABC_price               0.009392\n",
       "ABC                     0.009051\n",
       "payment_type            0.008848\n",
       "missed_percent          0.007688\n",
       "m_missed_calls          0.007309\n",
       "webinars                0.007220\n",
       "p_total_duration        0.006759\n",
       "city_student            0.005438\n",
       "city_price              0.004941\n",
       "interacted_hw           0.004648\n",
       "completed_hw            0.004462\n",
       "reworked_hw             0.004425\n",
       "p_avg_duration          0.004413\n",
       "speed_recall            0.004242\n",
       "p_total_calls           0.003668\n",
       "test_with_great_mark    0.003492\n",
       "test_with_good_mark     0.003344\n",
       "p_missed_calls          0.003336\n",
       "p_was_conversations     0.002850\n",
       "bought_d1               0.002515\n",
       "bought_d5               0.001864\n",
       "dtype: float64"
      ]
     },
     "execution_count": 23,
     "metadata": {},
     "output_type": "execute_result"
    }
   ],
   "source": [
    "forest_importances.sort_values(ascending = False)[:50]"
   ]
  },
  {
   "cell_type": "code",
   "execution_count": null,
   "id": "a0312cee",
   "metadata": {},
   "outputs": [],
   "source": []
  },
  {
   "cell_type": "code",
   "execution_count": null,
   "id": "dd946ba2",
   "metadata": {},
   "outputs": [],
   "source": []
  },
  {
   "cell_type": "markdown",
   "id": "298934ff",
   "metadata": {},
   "source": [
    "# Применение"
   ]
  },
  {
   "cell_type": "code",
   "execution_count": 24,
   "id": "e025b0da",
   "metadata": {},
   "outputs": [],
   "source": [
    "df_test = pd.read_csv('content/test.csv')"
   ]
  },
  {
   "cell_type": "code",
   "execution_count": 25,
   "id": "55906468",
   "metadata": {},
   "outputs": [],
   "source": [
    "df_test['month_id_m'] =df['month_id'].apply(get_month)\n",
    "\n",
    "df_test['carts_created_m'] =df['carts_created_at'].apply(get_month)"
   ]
  },
  {
   "cell_type": "code",
   "execution_count": 26,
   "id": "9da09575",
   "metadata": {},
   "outputs": [],
   "source": [
    "le = LabelEncoder()\n",
    "df_test[\"ABC\"] = le.fit_transform(df_test[\"ABC\"])"
   ]
  },
  {
   "cell_type": "code",
   "execution_count": 27,
   "id": "5498e29a",
   "metadata": {},
   "outputs": [],
   "source": [
    "\n",
    "df_test['browser_price'] = feature_mean(df,'browser','price')\n",
    "\n",
    "\n",
    "df_test['os_price'] = feature_mean(df,'os','price')\n",
    "df_test['os_student'] = feature_mean(df,'os','student_id')\n",
    "\n",
    "\n",
    "df_test['city_price'] = feature_mean(df,'city','price')\n",
    "df_test['city_student'] = feature_mean(df,'city','student_id')\n",
    "df_test['browser_student'] = feature_mean(df,'browser','student_id')\n",
    "df_test['student_price'] = feature_mean(df,'student_id','price')\n",
    "\n",
    "\n",
    "\n",
    "df_test['ABC_price'] = feature_mean(df,'ABC','price')\n",
    "df_test['ABC_student'] = feature_mean(df,'ABC','student_id')\n",
    "\n",
    "df_test['gender_price'] = feature_mean(df,'gender','price')\n",
    "df_test['gender_student'] = feature_mean(df,'gender','student_id')\n"
   ]
  },
  {
   "cell_type": "code",
   "execution_count": 28,
   "id": "512ddd75",
   "metadata": {},
   "outputs": [],
   "source": [
    "df_test['missed_percent'] = df['m_missed_calls']/df['m_total_calls']\n",
    "\n",
    "df_test['missed_percent'] =  df['missed_percent'].fillna(-1)"
   ]
  },
  {
   "cell_type": "code",
   "execution_count": 29,
   "id": "35594b99",
   "metadata": {},
   "outputs": [],
   "source": [
    "df_test['promo'] = df['promo'].map({'+': 1, '-': 0})"
   ]
  },
  {
   "cell_type": "code",
   "execution_count": 30,
   "id": "90c6176c",
   "metadata": {},
   "outputs": [],
   "source": [
    "df_test['feedback_avg_d135'] =  df['feedback_avg_d3'] + df['feedback_avg_d1'] + df['feedback_avg_d5']\n",
    "df_test['webinar_lessons'] = df['webinars'] + df['lessons']"
   ]
  },
  {
   "cell_type": "code",
   "execution_count": null,
   "id": "57cffc0d",
   "metadata": {},
   "outputs": [],
   "source": []
  },
  {
   "cell_type": "markdown",
   "id": "651b3e55",
   "metadata": {},
   "source": [
    "Кластеризация"
   ]
  },
  {
   "cell_type": "code",
   "execution_count": 31,
   "id": "828b183f",
   "metadata": {},
   "outputs": [],
   "source": [
    "kmeans = KMeans(n_clusters=6)\n",
    "\n",
    "X_cluster = df_test.loc[:, ['id',\n",
    "                       \"student_id\", \n",
    "                       'price',\n",
    "                        'student_price',\n",
    "                       'carts_created_m',\n",
    "                            \n",
    "                       'age_indicator',\n",
    "                       \"carts_created_m\",\n",
    "                       \n",
    "                       'p_missed_calls',\n",
    "                       'program_id', \n",
    "                       \n",
    "                       'month_id_m',  \n",
    "        \n",
    "                       'p_total_calls', \n",
    "                       'p_was_conversations', \n",
    "                       'p_total_duration',\n",
    "                       'support_feedback_avg',\n",
    "                       \n",
    "                       'feedback_avg_d1', \n",
    "        \n",
    "                        'feedback_avg_d3', \n",
    "                        'feedback_avg_d5', \n",
    "                       \n",
    "                       'webinar_lessons',\n",
    "                       'feedback_avg_d135'\n",
    "                       \n",
    "                      \n",
    "                         \n",
    "                                            \n",
    "                      ]].fillna(-1)\n",
    "\n"
   ]
  },
  {
   "cell_type": "code",
   "execution_count": 32,
   "id": "862c3d99",
   "metadata": {},
   "outputs": [],
   "source": [
    "X_cluster[\"Cluster\"] = kmeans.fit_predict(X_cluster )\n",
    "df_test['cluster'] = X_cluster [\"Cluster\"].astype(\"int\")"
   ]
  },
  {
   "cell_type": "code",
   "execution_count": 33,
   "id": "d5f6ab6b",
   "metadata": {},
   "outputs": [],
   "source": [
    "\n",
    "X_result = df_test[['ABC', \n",
    "        'cluster',\n",
    "        'id', 'age_indicator', 'student_id', \n",
    "        'program_id',\n",
    "         'spent_time_total', 'spent_time_to_complete_hw',\n",
    "        \n",
    "        'completed_hw', 'failed_hw', 'reworked_hw', 'interacted_hw',\n",
    "        'avg_hw_mark', 'test_with_good_mark', 'test_with_great_mark',\n",
    "        \n",
    "        'webinars', 'lessons',\n",
    "        \n",
    "        'hw_leader', 'avg_quiz_result',\n",
    "    \n",
    "        'activity', \n",
    "     \n",
    "        'bought_d1',\n",
    "         'bought_d2', \n",
    "        'bought_d3',         \n",
    "         'bought_d4',    \n",
    "        'bought_d5', \n",
    "       \n",
    "        'bought_avg_duration',\n",
    "    \n",
    "        'payment_type', \n",
    "       'promo', 'price',\n",
    "        \n",
    "       'gender', 'speed_recall',  \n",
    "       'm_avg_talk_duration', 'm_avg_duration', 'm_missed_calls',\n",
    "        \n",
    "       'm_total_calls', \n",
    "       'p_avg_duration', 'p_missed_calls',\n",
    "        \n",
    "       'p_total_calls', 'p_was_conversations', 'p_total_duration',\n",
    "       'support_feedback_avg', \n",
    "       'feedback_avg_d1', \n",
    "\n",
    "        \n",
    "       'feedback_avg_d3', \n",
    "\n",
    "       'feedback_avg_d5', \n",
    "        \n",
    "       'browser_price', 'student_price',   \n",
    "    \n",
    "       'city_price', 'ABC_price', \n",
    "       'missed_percent',\n",
    "       'os_student','os_price',\n",
    "      'city_student', 'browser_student','ABC_student',\n",
    "    \n",
    "      'gender_price', 'gender_student',\n",
    "       'month_id_m',  'carts_created_m'\n",
    "                     ]]\n"
   ]
  },
  {
   "cell_type": "code",
   "execution_count": 34,
   "id": "d6d7eef6",
   "metadata": {},
   "outputs": [],
   "source": [
    "X_result= X_result.fillna(-1)"
   ]
  },
  {
   "cell_type": "markdown",
   "id": "e12ff5ef",
   "metadata": {},
   "source": [
    "Вычисление предсказываемой величины"
   ]
  },
  {
   "cell_type": "code",
   "execution_count": 35,
   "id": "0e8934f4",
   "metadata": {},
   "outputs": [],
   "source": [
    "pred_res = rfc.predict(X_result)"
   ]
  },
  {
   "cell_type": "markdown",
   "id": "e2d7f997",
   "metadata": {},
   "source": [
    "Итоговый csv"
   ]
  },
  {
   "cell_type": "code",
   "execution_count": 36,
   "id": "8085466c",
   "metadata": {},
   "outputs": [],
   "source": [
    "df_pred = pd.DataFrame(pred_res,columns = ['target'])"
   ]
  },
  {
   "cell_type": "code",
   "execution_count": 37,
   "id": "4a679eb7",
   "metadata": {},
   "outputs": [],
   "source": [
    "df_res = pd.concat([X_result['id'],df_pred],axis = 1,ignore_index=False)"
   ]
  },
  {
   "cell_type": "code",
   "execution_count": 38,
   "id": "81d3d979",
   "metadata": {},
   "outputs": [
    {
     "name": "stdout",
     "output_type": "stream",
     "text": [
      "OK\n"
     ]
    }
   ],
   "source": [
    "df_res.to_csv('result_816.csv', index=False)\n",
    "print('OK')"
   ]
  },
  {
   "cell_type": "markdown",
   "id": "9a8dcdff",
   "metadata": {},
   "source": [
    "Проверка кросс-валидацией\n"
   ]
  },
  {
   "cell_type": "code",
   "execution_count": null,
   "id": "eddd1758",
   "metadata": {},
   "outputs": [],
   "source": [
    "# https://scikit-learn.org/stable/modules/cross_validation.html\n",
    "from sklearn.model_selection import cross_val_score\n",
    "from sklearn import svm\n",
    "\n",
    "scores = cross_val_score(rfc, X, y, cv=5)\n"
   ]
  },
  {
   "cell_type": "code",
   "execution_count": null,
   "id": "8f32082c",
   "metadata": {},
   "outputs": [],
   "source": [
    "print(\"%0.2f accuracy with a standard deviation of %0.5f\" % (scores.mean(), scores.std()))"
   ]
  },
  {
   "cell_type": "code",
   "execution_count": null,
   "id": "8d85bc1e",
   "metadata": {},
   "outputs": [],
   "source": []
  },
  {
   "cell_type": "code",
   "execution_count": null,
   "id": "e62ab270",
   "metadata": {},
   "outputs": [],
   "source": []
  }
 ],
 "metadata": {
  "kernelspec": {
   "display_name": "Python 3",
   "language": "python",
   "name": "python3"
  },
  "language_info": {
   "codemirror_mode": {
    "name": "ipython",
    "version": 3
   },
   "file_extension": ".py",
   "mimetype": "text/x-python",
   "name": "python",
   "nbconvert_exporter": "python",
   "pygments_lexer": "ipython3",
   "version": "3.8.8"
  }
 },
 "nbformat": 4,
 "nbformat_minor": 5
}
